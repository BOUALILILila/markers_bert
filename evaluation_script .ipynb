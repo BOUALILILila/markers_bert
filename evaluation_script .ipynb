{
  "nbformat": 4,
  "nbformat_minor": 0,
  "metadata": {
    "colab": {
      "name": "evaluation_script.ipynb",
      "provenance": [],
      "collapsed_sections": [],
      "toc_visible": true
    },
    "kernelspec": {
      "name": "python3",
      "display_name": "Python 3"
    }
  },
  "cells": [
    {
      "cell_type": "markdown",
      "metadata": {
        "id": "l9PjmHxb3j9Z",
        "colab_type": "text"
      },
      "source": [
        "## Evaluation with Anserini\n",
        "\n"
      ]
    },
    {
      "cell_type": "code",
      "metadata": {
        "id": "CMfVXp2p4oCA",
        "colab_type": "code",
        "outputId": "f8bc7489-7939-4821-9584-68dcd4770e69",
        "colab": {
          "base_uri": "https://localhost:8080/",
          "height": 204
        }
      },
      "source": [
        "!wget https://msmarco.blob.core.windows.net/msmarcoranking/qrels.dev.small.tsv -P ./"
      ],
      "execution_count": 0,
      "outputs": [
        {
          "output_type": "stream",
          "text": [
            "--2020-01-28 13:02:18--  https://msmarco.blob.core.windows.net/msmarcoranking/qrels.dev.small.tsv\n",
            "Resolving msmarco.blob.core.windows.net (msmarco.blob.core.windows.net)... 40.112.152.16\n",
            "Connecting to msmarco.blob.core.windows.net (msmarco.blob.core.windows.net)|40.112.152.16|:443... connected.\n",
            "HTTP request sent, awaiting response... 200 OK\n",
            "Length: 143300 (140K) [text/tab-separated-values]\n",
            "Saving to: ‘/content/qrels.dev.small.tsv’\n",
            "\n",
            "\rqrels.dev.small.tsv   0%[                    ]       0  --.-KB/s               \rqrels.dev.small.tsv  74%[=============>      ] 103.59K   479KB/s               \rqrels.dev.small.tsv 100%[===================>] 139.94K   646KB/s    in 0.2s    \n",
            "\n",
            "2020-01-28 13:02:18 (646 KB/s) - ‘/content/qrels.dev.small.tsv’ saved [143300/143300]\n",
            "\n"
          ],
          "name": "stdout"
        }
      ]
    },
    {
      "cell_type": "code",
      "metadata": {
        "id": "y71vcMVeFD_f",
        "colab_type": "code",
        "colab": {}
      },
      "source": [
        "%%capture\n",
        "!apt-get install maven -qq"
      ],
      "execution_count": 0,
      "outputs": []
    },
    {
      "cell_type": "code",
      "metadata": {
        "id": "prKphVUgSJJt",
        "colab_type": "code",
        "colab": {}
      },
      "source": [
        "%%capture\n",
        "!git clone https://github.com/castorini/Anserini.git\n",
        "%cd Anserini\n",
        "!mvn clean package appassembler:assemble -DskipTests -Dmaven.javadoc.skip=true\n",
        "!cd eval && tar xvfz trec_eval.9.0.4.tar.gz && cd trec_eval.9.0.4 && make\n",
        "!cd ../ndeval && make\n"
      ],
      "execution_count": 0,
      "outputs": []
    },
    {
      "cell_type": "code",
      "metadata": {
        "id": "5x3FFCuz6D0C",
        "colab_type": "code",
        "outputId": "c2fcfcec-b72e-4287-b7c5-def88a8fdd0b",
        "colab": {
          "base_uri": "https://localhost:8080/",
          "height": 68
        }
      },
      "source": [
        "!pwd\n",
        "%cd ../\n",
        "!pwd"
      ],
      "execution_count": 0,
      "outputs": [
        {
          "output_type": "stream",
          "text": [
            "/content/Anserini\n",
            "/content\n",
            "/content\n"
          ],
          "name": "stdout"
        }
      ]
    },
    {
      "cell_type": "code",
      "metadata": {
        "id": "AYW5vEz7tAux",
        "colab_type": "code",
        "outputId": "96a78590-63ec-4be2-9491-e7a8009904b9",
        "colab": {
          "base_uri": "https://localhost:8080/",
          "height": 530
        }
      },
      "source": [
        "\n",
        "!pip install pyserini==0.6.0.0\n",
        "!wget -O anserini-0.6.0-fatjar.jar https://search.maven.org/remotecontent?filepath=io/anserini/anserini/0.6.0/anserini-0.6.0-fatjar.jar\n",
        "\n",
        "import os\n",
        "os.environ[\"JAVA_HOME\"] = \"/usr/lib/jvm/java-11-openjdk-amd64\"\n",
        "# move the jar file to Anserini/ "
      ],
      "execution_count": 0,
      "outputs": [
        {
          "output_type": "stream",
          "text": [
            "Collecting pyserini==0.6.0.0\n",
            "  Downloading https://files.pythonhosted.org/packages/22/8b/8a504df397c9a59c4ccfc1357cff95dff48ddfa0370532f42888c2ecb211/pyserini-0.6.0.0-py3-none-any.whl\n",
            "Collecting pyjnius\n",
            "\u001b[?25l  Downloading https://files.pythonhosted.org/packages/e8/4f/e3d9f4bb53f7f1854f81a279c274c4ad8537e4d71117258515158403bc10/pyjnius-1.2.1-cp36-cp36m-manylinux2010_x86_64.whl (1.1MB)\n",
            "\u001b[K     |████████████████████████████████| 1.1MB 3.6MB/s \n",
            "\u001b[?25hRequirement already satisfied: Cython in /usr/local/lib/python3.6/dist-packages (from pyserini==0.6.0.0) (0.29.14)\n",
            "Requirement already satisfied: six>=1.7.0 in /usr/local/lib/python3.6/dist-packages (from pyjnius->pyserini==0.6.0.0) (1.12.0)\n",
            "Installing collected packages: pyjnius, pyserini\n",
            "Successfully installed pyjnius-1.2.1 pyserini-0.6.0.0\n",
            "--2020-01-28 13:03:58--  https://search.maven.org/remotecontent?filepath=io/anserini/anserini/0.6.0/anserini-0.6.0-fatjar.jar\n",
            "Resolving search.maven.org (search.maven.org)... 35.169.102.77, 3.227.158.232\n",
            "Connecting to search.maven.org (search.maven.org)|35.169.102.77|:443... connected.\n",
            "HTTP request sent, awaiting response... 301 Moved Permanently\n",
            "Location: https://repo1.maven.org:443/fromsearch?filepath=io/anserini/anserini/0.6.0/anserini-0.6.0-fatjar.jar [following]\n",
            "--2020-01-28 13:03:59--  https://repo1.maven.org/fromsearch?filepath=io/anserini/anserini/0.6.0/anserini-0.6.0-fatjar.jar\n",
            "Resolving repo1.maven.org (repo1.maven.org)... 151.101.200.209\n",
            "Connecting to repo1.maven.org (repo1.maven.org)|151.101.200.209|:443... connected.\n",
            "HTTP request sent, awaiting response... 301 Moved Permanently\n",
            "Location: https://repo1.maven.org/maven2/io/anserini/anserini/0.6.0/anserini-0.6.0-fatjar.jar [following]\n",
            "--2020-01-28 13:03:59--  https://repo1.maven.org/maven2/io/anserini/anserini/0.6.0/anserini-0.6.0-fatjar.jar\n",
            "Reusing existing connection to repo1.maven.org:443.\n",
            "HTTP request sent, awaiting response... 200 OK\n",
            "Length: 104462561 (100M) [application/java-archive]\n",
            "Saving to: ‘anserini-0.6.0-fatjar.jar’\n",
            "\n",
            "anserini-0.6.0-fatj 100%[===================>]  99.62M   102MB/s    in 1.0s    \n",
            "\n",
            "2020-01-28 13:04:00 (102 MB/s) - ‘anserini-0.6.0-fatjar.jar’ saved [104462561/104462561]\n",
            "\n"
          ],
          "name": "stdout"
        }
      ]
    },
    {
      "cell_type": "code",
      "metadata": {
        "id": "1LpOws1OtIil",
        "colab_type": "code",
        "colab": {}
      },
      "source": [
        "!mkdir -p /usr/lib/jvm/java-1.11.0-openjdk-amd64/jre/lib/amd64/server/\n",
        "!ln -s /usr/lib/jvm/java-1.11.0-openjdk-amd64/lib/server/libjvm.so /usr/lib/jvm/java-1.11.0-openjdk-amd64/jre/lib/amd64/server/libjvm.so"
      ],
      "execution_count": 0,
      "outputs": []
    },
    {
      "cell_type": "code",
      "metadata": {
        "id": "TkY4gkFulYW7",
        "colab_type": "code",
        "outputId": "63103596-e639-47f1-f324-5067b3ea6494",
        "colab": {
          "base_uri": "https://localhost:8080/",
          "height": 85
        }
      },
      "source": [
        "path=\"path_to_msmarco_output_file\"\n",
        "!python ./Anserini/src/main/python/msmarco/msmarco_eval.py ./qrels.dev.small.tsv \"$path/msmarco_predictions_full.tsv\""
      ],
      "execution_count": 0,
      "outputs": [
        {
          "output_type": "stream",
          "text": [
            "#####################\n",
            "MRR @10: 0.32842708191203734\n",
            "QueriesRanked: 6980\n",
            "#####################\n"
          ],
          "name": "stdout"
        }
      ]
    }
  ]
}